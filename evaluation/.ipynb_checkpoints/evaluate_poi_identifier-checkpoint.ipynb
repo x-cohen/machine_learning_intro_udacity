{
 "cells": [
  {
   "cell_type": "code",
   "execution_count": 1,
   "metadata": {},
   "outputs": [],
   "source": [
    "# %load evaluate_poi_identifier.py\n",
    "#!/usr/bin/python\n",
    "\n",
    "\n",
    "\"\"\"\n",
    "    Starter code for the evaluation mini-project.\n",
    "    Start by copying your trained/tested POI identifier from\n",
    "    that which you built in the validation mini-project.\n",
    "\n",
    "    This is the second step toward building your POI identifier!\n",
    "\n",
    "    Start by loading/formatting the data...\n",
    "\"\"\"\n",
    "\n",
    "import pickle\n",
    "import sys\n",
    "sys.path.append(\"../tools/\")\n",
    "from feature_format import featureFormat, targetFeatureSplit\n",
    "\n",
    "data_dict = pickle.load(open(\"../final_project/final_project_dataset.pkl\", \"r\") )\n",
    "\n",
    "### add more features to features_list!\n",
    "features_list = [\"poi\", \"salary\"]\n",
    "\n",
    "data = featureFormat(data_dict, features_list)\n",
    "labels, features = targetFeatureSplit(data)\n",
    "\n",
    "### your code goes here "
   ]
  },
  {
   "cell_type": "code",
   "execution_count": 3,
   "metadata": {},
   "outputs": [
    {
     "data": {
      "text/plain": [
       "0.7241379310344828"
      ]
     },
     "execution_count": 3,
     "metadata": {},
     "output_type": "execute_result"
    }
   ],
   "source": [
    "from sklearn.tree import DecisionTreeClassifier\n",
    "from sklearn import cross_validation\n",
    "features_train,features_test,labels_train,labels_test = \\\n",
    "cross_validation.train_test_split(features,labels,test_size=0.3, random_state=42)\n",
    "clf = DecisionTreeClassifier()\n",
    "clf.fit(features_train,labels_train)\n",
    "clf.score(features_test,labels_test)"
   ]
  },
  {
   "cell_type": "markdown",
   "metadata": {},
   "source": [
    " "
   ]
  },
  {
   "cell_type": "markdown",
   "metadata": {},
   "source": [
    "Quantos POIs foram preditos no conjunto de testes pelo seu identificador de POIs?\n",
    "\n",
    "(Note que dizemos conjunto de testes! Nós não estamos procurando o número de POIs no conjunto de dados inteiro.)"
   ]
  },
  {
   "cell_type": "code",
   "execution_count": 4,
   "metadata": {},
   "outputs": [
    {
     "data": {
      "text/plain": [
       "array([0., 0., 0., 0., 1., 0., 0., 0., 0., 0., 0., 1., 0., 0., 0., 0., 0.,\n",
       "       0., 0., 1., 0., 1., 0., 0., 0., 0., 0., 0., 0.])"
      ]
     },
     "execution_count": 4,
     "metadata": {},
     "output_type": "execute_result"
    }
   ],
   "source": [
    "clf.predict(features_test)"
   ]
  },
  {
   "cell_type": "code",
   "execution_count": null,
   "metadata": {},
   "outputs": [],
   "source": [
    "# resposta = 3"
   ]
  },
  {
   "cell_type": "markdown",
   "metadata": {},
   "source": [
    " "
   ]
  },
  {
   "cell_type": "markdown",
   "metadata": {},
   "source": [
    "Quantas pessoas existem no seu conjunto de testes?"
   ]
  },
  {
   "cell_type": "code",
   "execution_count": 5,
   "metadata": {},
   "outputs": [
    {
     "data": {
      "text/plain": [
       "29"
      ]
     },
     "execution_count": 5,
     "metadata": {},
     "output_type": "execute_result"
    }
   ],
   "source": [
    "len(features_test)"
   ]
  },
  {
   "cell_type": "markdown",
   "metadata": {},
   "source": [
    " "
   ]
  },
  {
   "cell_type": "markdown",
   "metadata": {},
   "source": [
    "Se seu classificador rotulou como 0 (não-POI) para todo mundo no conjunto de testes, qual seria a acurácia do modelo?"
   ]
  },
  {
   "cell_type": "code",
   "execution_count": 11,
   "metadata": {},
   "outputs": [
    {
     "name": "stdout",
     "output_type": "stream",
     "text": [
      "[0.0, 0.0, 0.0, 0.0, 0.0, 0.0, 0.0, 0.0, 0.0, 0.0, 0.0, 0.0, 0.0, 0.0, 0.0, 0.0, 0.0, 0.0, 0.0, 0.0, 0.0, 0.0, 1.0, 0.0, 1.0, 1.0, 0.0, 1.0, 0.0]\n"
     ]
    }
   ],
   "source": [
    "print labels_test"
   ]
  },
  {
   "cell_type": "code",
   "execution_count": 14,
   "metadata": {},
   "outputs": [
    {
     "name": "stdout",
     "output_type": "stream",
     "text": [
      "4\n"
     ]
    }
   ],
   "source": [
    "print len([e for e in labels_test if e == 1.0])"
   ]
  },
  {
   "cell_type": "code",
   "execution_count": 15,
   "metadata": {},
   "outputs": [
    {
     "data": {
      "text/plain": [
       "0.8620689655172413"
      ]
     },
     "execution_count": 15,
     "metadata": {},
     "output_type": "execute_result"
    }
   ],
   "source": [
    "1.0 - 4.0 / 29.0"
   ]
  },
  {
   "cell_type": "markdown",
   "metadata": {},
   "source": [
    " "
   ]
  },
  {
   "cell_type": "markdown",
   "metadata": {},
   "source": [
    "Analise as previsões do seu modelo sobrejustado e compare-os com os rótulos verdadeiros. Você conseguiu obter algum verdadeiro positivo? (Neste caso, um verdadeiro positivo é um caso onde o rótulo verdadeiro e o previsto pelo identificador são 1)"
   ]
  },
  {
   "cell_type": "code",
   "execution_count": null,
   "metadata": {},
   "outputs": [],
   "source": [
    "# ainda não sei fazer. A resposta é: nenhum."
   ]
  },
  {
   "cell_type": "markdown",
   "metadata": {},
   "source": [
    " "
   ]
  },
  {
   "cell_type": "markdown",
   "metadata": {},
   "source": [
    "Como você pode ver, possuir classes desbalanceadas como nós temos no problema da Enron (muitos não-POIs em comparação aos POIs) introduz problemas especiais, como por exemplo o fato de você prever todos os dados como sendo da classe majoritária, uma estratégia não muito inteligente, e ainda assim obter uma acurácia boa!\n",
    "\n",
    "Precisão e revocação podem te ajustar a demonstrar a performance de um classificador mais adequadamente. Use o precision_score e o recall_score disponíveis na classe sklearn.metrics para computar estas métricas.\n",
    "\n",
    "Qual é a precisão?"
   ]
  },
  {
   "cell_type": "code",
   "execution_count": 21,
   "metadata": {},
   "outputs": [
    {
     "name": "stdout",
     "output_type": "stream",
     "text": [
      "0.0\n"
     ]
    }
   ],
   "source": [
    "from sklearn.metrics import *\n",
    "print precision_score(labels_test,clf.predict(features_test))"
   ]
  },
  {
   "cell_type": "markdown",
   "metadata": {},
   "source": [
    " "
   ]
  },
  {
   "cell_type": "markdown",
   "metadata": {},
   "source": [
    "Qual é a revocação? \n",
    "\n",
    "(Note: você pode ver uma mensagem como essa: UserWarning: The precision and recall are equal to zero for some labels. Como a mensagem diz, você pode ter problemas ao computar outras métricas (como o F1) quando a precisão ou revocação são zero, e ele quer te alertar quando isso acontece.) \n",
    "\n",
    "Obviamente essa não é uma estratégia muito otimizada (nós não tentamos algoritmos além da árvore de decisão, ou otimizamos parâmetros, or realizamos seleção de atributos), e agora ao analisar as métricas de precisão e revocação, conseguimos ver isso mais claramente do que com a acurácia."
   ]
  },
  {
   "cell_type": "code",
   "execution_count": 22,
   "metadata": {},
   "outputs": [
    {
     "name": "stdout",
     "output_type": "stream",
     "text": [
      "0.0\n"
     ]
    }
   ],
   "source": [
    "print recall_score(labels_test,clf.predict(features_test))"
   ]
  },
  {
   "cell_type": "markdown",
   "metadata": {},
   "source": [
    " "
   ]
  },
  {
   "cell_type": "markdown",
   "metadata": {},
   "source": [
    "No projeto final você trabalhará na otimização do seu identificador de POIs, usando várias técnicas utilizadas neste curso. Nós esperamos que os valores de precisão e revocação aumentem conforme o seu progresso, mas você deverá ser capaz de interpretá-los \n",
    "\n",
    "Aqui estão algumas previsões de exemplo e alguns rótulos verdadeiros para um conjunto de testes hipotético; preencha os seguintes campos para praticar a identificação de verdadeiros positivos, falsos positivos, verdadeiros negativos e falsos negativos. Vamos usar a convenção que um \"1\" significa um resultado positivo e \"0\" um negativo. \n",
    "\n",
    "previsões = [0, 1, 1, 0, 0, 0, 1, 0, 1, 0, 0, 1, 0, 0, 1, 1, 0, 1, 0, 1] \n",
    "previsões verdadeiras = [0, 0, 0, 0, 0, 0, 1, 0, 1, 1, 0, 1, 0, 1, 1, 1, 0, 1, 0, 0]\n",
    "\n",
    "Quantos positivos verdadeiros temos aqui?"
   ]
  },
  {
   "cell_type": "code",
   "execution_count": 35,
   "metadata": {},
   "outputs": [],
   "source": [
    "pred = [0, 1, 1, 0, 0, 0, 1, 0, 1, 0, 0, 1, 0, 0, 1, 1, 0, 1, 0, 1]\n",
    "tru = [0, 0, 0, 0, 0, 0, 1, 0, 1, 1, 0, 1, 0, 1, 1, 1, 0, 1, 0, 0]"
   ]
  },
  {
   "cell_type": "code",
   "execution_count": 44,
   "metadata": {},
   "outputs": [
    {
     "name": "stdout",
     "output_type": "stream",
     "text": [
      "6\n"
     ]
    }
   ],
   "source": [
    "c = 0\n",
    "n = len(pred)\n",
    "for ch in range(n):\n",
    "    if pred[ch] == 1:\n",
    "        if pred[ch] == tru[ch]:\n",
    "            c +=1\n",
    "print c"
   ]
  },
  {
   "cell_type": "markdown",
   "metadata": {},
   "source": [
    " "
   ]
  },
  {
   "cell_type": "markdown",
   "metadata": {},
   "source": [
    "Quantos verdadeiros negativos temos neste exemplo?"
   ]
  },
  {
   "cell_type": "code",
   "execution_count": 46,
   "metadata": {},
   "outputs": [],
   "source": [
    "pred = [0, 1, 1, 0, 0, 0, 1, 0, 1, 0, 0, 1, 0, 0, 1, 1, 0, 1, 0, 1]\n",
    "tru = [0, 0, 0, 0, 0, 0, 1, 0, 1, 1, 0, 1, 0, 1, 1, 1, 0, 1, 0, 0]"
   ]
  },
  {
   "cell_type": "code",
   "execution_count": 48,
   "metadata": {},
   "outputs": [
    {
     "name": "stdout",
     "output_type": "stream",
     "text": [
      "9\n"
     ]
    }
   ],
   "source": [
    "c = 0\n",
    "n = len(pred)\n",
    "for ch in range(n):\n",
    "    if pred[ch] == 0:\n",
    "        if pred[ch] == tru[ch]:\n",
    "            c +=1\n",
    "print c"
   ]
  },
  {
   "cell_type": "markdown",
   "metadata": {},
   "source": [
    " "
   ]
  },
  {
   "cell_type": "markdown",
   "metadata": {},
   "source": [
    "Quantos falsos positivos temos neste caso?"
   ]
  },
  {
   "cell_type": "code",
   "execution_count": 49,
   "metadata": {},
   "outputs": [
    {
     "name": "stdout",
     "output_type": "stream",
     "text": [
      "3\n"
     ]
    }
   ],
   "source": [
    "c = 0\n",
    "n = len(pred)\n",
    "for ch in range(n):\n",
    "    if pred[ch] == 1:\n",
    "        if pred[ch] != tru[ch]:\n",
    "            c +=1\n",
    "print c"
   ]
  },
  {
   "cell_type": "markdown",
   "metadata": {},
   "source": [
    " "
   ]
  },
  {
   "cell_type": "markdown",
   "metadata": {},
   "source": [
    "Quantos falsos negativos neste caso?"
   ]
  },
  {
   "cell_type": "code",
   "execution_count": 50,
   "metadata": {},
   "outputs": [
    {
     "name": "stdout",
     "output_type": "stream",
     "text": [
      "2\n"
     ]
    }
   ],
   "source": [
    "c = 0\n",
    "n = len(pred)\n",
    "for ch in range(n):\n",
    "    if pred[ch] == 0:\n",
    "        if pred[ch] != tru[ch]:\n",
    "            c +=1\n",
    "print c"
   ]
  },
  {
   "cell_type": "markdown",
   "metadata": {},
   "source": [
    " "
   ]
  },
  {
   "cell_type": "markdown",
   "metadata": {},
   "source": [
    "Qual é a precisão deste classificador?"
   ]
  },
  {
   "cell_type": "code",
   "execution_count": 51,
   "metadata": {},
   "outputs": [
    {
     "data": {
      "text/plain": [
       "0.6666666666666666"
      ]
     },
     "execution_count": 51,
     "metadata": {},
     "output_type": "execute_result"
    }
   ],
   "source": [
    "precision_score(tru,pred)"
   ]
  },
  {
   "cell_type": "markdown",
   "metadata": {},
   "source": [
    " "
   ]
  },
  {
   "cell_type": "markdown",
   "metadata": {},
   "source": [
    "Qual é a revocação deste classificador?"
   ]
  },
  {
   "cell_type": "code",
   "execution_count": 52,
   "metadata": {},
   "outputs": [
    {
     "data": {
      "text/plain": [
       "0.75"
      ]
     },
     "execution_count": 52,
     "metadata": {},
     "output_type": "execute_result"
    }
   ],
   "source": [
    "recall_score(tru,pred)"
   ]
  },
  {
   "cell_type": "markdown",
   "metadata": {},
   "source": [
    " "
   ]
  },
  {
   "cell_type": "markdown",
   "metadata": {},
   "source": [
    "“Minha taxa de verdadeiros positivos é alta, o que significa que quando um 'POI' está presente nos dados de teste, sou bom em identificá-lo.”"
   ]
  },
  {
   "cell_type": "markdown",
   "metadata": {},
   "source": [
    " "
   ]
  },
  {
   "cell_type": "markdown",
   "metadata": {},
   "source": [
    "“Meu identificador não possui um valor bom de 'PRECISÃO', mas ele possui bom valor para 'REVOCAÇÃO'. Isso signifique que, na maior parte das vezes que um POI aparece no meu conjunto de testes, sou capaz de identificá-lo. O custo disso é que tenho alguns problemas com falsos positivos, onde alguns não-POIs são mal identificados.”"
   ]
  },
  {
   "cell_type": "markdown",
   "metadata": {},
   "source": [
    " "
   ]
  },
  {
   "cell_type": "markdown",
   "metadata": {},
   "source": [
    "“Meu identificador não possui bons valores de 'REVOCAÇÃO', mas ele possui bom valor de 'PRECISÃO'. Isso significa que quando um POI é detectado em meu conjunto de testes, tenho confiança de que ele realmente é um POI e não estamos tratando de um falso alarme. Por outro lado, o preço que eu pago pr isso é que as vezes eu não identifico alguns POIs, pois meu identificador reluta em classificar os POIs em alguns casos mais complexos.”"
   ]
  },
  {
   "cell_type": "markdown",
   "metadata": {},
   "source": [
    " "
   ]
  },
  {
   "cell_type": "markdown",
   "metadata": {},
   "source": [
    "“Meu identificador possui valores altos de 'F1 SCORE'.\n",
    "\n",
    "Este é o melhor dos dois mundos. Minhas taxas de falsos positivos e falsos negativos são 'BAIXAS', o que significa que eu posso identificar POIs com confiança e de forma acurada. Se meu identificador diz que uma pessoa é um POI, é quase certeza de que ela realmente é, e se meu identificador não a prevê desta forma, temos quase certeza de que ela é um não-POI.”"
   ]
  },
  {
   "cell_type": "markdown",
   "metadata": {},
   "source": [
    " "
   ]
  },
  {
   "cell_type": "markdown",
   "metadata": {},
   "source": [
    "Normalmente nós temos que colocar a precisão e a revocação em uma balança -- qual você acha que é mais importante para seu identificador de POIs? Não existe uma resposta certa ou errada aqui, existem argumentos bons para ambos os casos, mas você deve ser capaz de interpretar ambas as métricas e articular uma defesa para qual você acha mais importante e por quê."
   ]
  },
  {
   "cell_type": "code",
   "execution_count": null,
   "metadata": {},
   "outputs": [],
   "source": []
  }
 ],
 "metadata": {
  "kernelspec": {
   "display_name": "Python 2",
   "language": "python",
   "name": "python2"
  },
  "language_info": {
   "codemirror_mode": {
    "name": "ipython",
    "version": 2
   },
   "file_extension": ".py",
   "mimetype": "text/x-python",
   "name": "python",
   "nbconvert_exporter": "python",
   "pygments_lexer": "ipython2",
   "version": "2.7.15"
  }
 },
 "nbformat": 4,
 "nbformat_minor": 2
}
